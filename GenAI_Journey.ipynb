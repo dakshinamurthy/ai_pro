{
  "nbformat": 4,
  "nbformat_minor": 0,
  "metadata": {
    "colab": {
      "provenance": [],
      "authorship_tag": "ABX9TyN54Y7cA3Bs0jRp2DR4/V7O",
      "include_colab_link": true
    },
    "kernelspec": {
      "name": "python3",
      "display_name": "Python 3"
    },
    "language_info": {
      "name": "python"
    }
  },
  "cells": [
    {
      "cell_type": "markdown",
      "metadata": {
        "id": "view-in-github",
        "colab_type": "text"
      },
      "source": [
        "<a href=\"https://colab.research.google.com/github/dakshinamurthy/ai_pro/blob/main/GenAI_Journey.ipynb\" target=\"_parent\"><img src=\"https://colab.research.google.com/assets/colab-badge.svg\" alt=\"Open In Colab\"/></a>"
      ]
    },
    {
      "cell_type": "code",
      "execution_count": 1,
      "metadata": {
        "colab": {
          "base_uri": "https://localhost:8080/"
        },
        "id": "oLCxRMFw_NzX",
        "outputId": "bf58b6c2-b35d-4d8b-a1e7-7b52d08041b2"
      },
      "outputs": [
        {
          "output_type": "stream",
          "name": "stdout",
          "text": [
            "\u001b[2K     \u001b[90m━━━━━━━━━━━━━━━━━━━━━━━━━━━━━━━━━━━━━━━━\u001b[0m \u001b[32m150.7/150.7 kB\u001b[0m \u001b[31m2.9 MB/s\u001b[0m eta \u001b[36m0:00:00\u001b[0m\n",
            "\u001b[2K     \u001b[90m━━━━━━━━━━━━━━━━━━━━━━━━━━━━━━━━━━━━━━━━\u001b[0m \u001b[32m679.1/679.1 kB\u001b[0m \u001b[31m22.7 MB/s\u001b[0m eta \u001b[36m0:00:00\u001b[0m\n",
            "\u001b[?25h"
          ]
        }
      ],
      "source": [
        "!pip install -q -U google-generativeai"
      ]
    },
    {
      "cell_type": "code",
      "source": [
        "from IPython.display import display\n",
        "from IPython.display import Markdown\n",
        "import textwrap\n",
        "\n",
        "def to_markdown(text):\n",
        "  text = text.replace('•', '  *')\n",
        "  return Markdown(textwrap.indent(text, '> ', predicate=lambda _: True))"
      ],
      "metadata": {
        "id": "QhlvE1KgAZvI"
      },
      "execution_count": 5,
      "outputs": []
    },
    {
      "cell_type": "code",
      "execution_count": 3,
      "metadata": {
        "id": "HTiaTu6O1LRC"
      },
      "outputs": [],
      "source": [
        "# Import the Python SDK\n",
        "import google.generativeai as genai\n",
        "# Used to securely store your API key\n",
        "from google.colab import userdata\n",
        "\n",
        "GOOGLE_API_KEY=userdata.get('GOOGLE_API_KEY')\n",
        "genai.configure(api_key=GOOGLE_API_KEY)\n",
        "\n",
        "model = genai.GenerativeModel('gemini-pro')"
      ]
    },
    {
      "cell_type": "code",
      "source": [
        "response = model.generate_content(\"Tell me about the journey of Bilbo Baggins\")\n",
        "print(response.text)"
      ],
      "metadata": {
        "colab": {
          "base_uri": "https://localhost:8080/",
          "height": 555
        },
        "id": "xeMJrU4N__zi",
        "outputId": "c0066cb6-83cf-4a17-ede3-45603da191db"
      },
      "execution_count": 14,
      "outputs": [
        {
          "output_type": "stream",
          "name": "stdout",
          "text": [
            "**The Hobbit: An Unexpected Journey**\n",
            "\n",
            "* **Beginning:** Bilbo Baggins, a timid hobbit, is recruited by Gandalf the wizard and 13 dwarves for a quest to reclaim the Lonely Mountain from the dragon Smaug.\n",
            "* **Middle:** Bilbo faces perils such as trolls, goblins, and the treacherous Misty Mountains, where he discovers the One Ring.\n",
            "* **End:** The company reaches Rivendell, where Elrond the elf reveals the Ring's dangerous nature. Bilbo and the dwarves prepare for the final phase of their journey.\n",
            "\n",
            "**The Hobbit: The Desolation of Smaug**\n",
            "\n",
            "* **Beginning:** The company continues its journey through Mirkwood Forest, where they encounter giant spiders and a battle with giant spiders.\n",
            "* **Middle:** They arrive at Lake-town, seeking aid in their quest against Smaug. Bilbo infiltrates the mountain and discovers Smaug's weakness.\n",
            "* **End:** The company confronts Smaug and launches an assault on the mountain, ultimately slaying the dragon but losing Thorin Oakenshield, the leader.\n",
            "\n",
            "**The Hobbit: The Battle of the Five Armies**\n",
            "\n",
            "* **Beginning:** Thorin becomes consumed by dragon sickness and refuses to share the treasure with the other dwarves and Lake-town's people.\n",
            "* **Middle:** A massive battle ensues between the dwarves, elves, humans, and goblins. Bilbo plays a pivotal role in the conflict.\n",
            "* **End:** Thorin is redeemed, the battle ends, and Bilbo returns home to the Shire with his newfound experience and the One Ring, unaware of its true power.\n",
            "\n",
            "**The Lord of the Rings**\n",
            "\n",
            "* **Beginning:** Bilbo's fateful journey sets in motion the events of The Lord of the Rings, where he accompanies Frodo Baggins on a quest to destroy the One Ring in the fires of Mount Doom.\n",
            "\n",
            "**Key Moments in Bilbo's Journey:**\n",
            "\n",
            "* **Discovering the One Ring:** A fateful find that shapes the destiny of Middle-earth.\n",
            "* **Riddle-match with Gollum:** A battle of wits that reveals the Ring's danger.\n",
            "* **Slaying Smaug:** A triumph against adversity that helps reclaim Erebor.\n",
            "* **Witnessing the Battle of the Five Armies:** A grand spectacle that showcases the scale of the conflict.\n",
            "* **Returning home with the One Ring:** A momentous decision that inadvertently starts a new chapter in Middle-earth's history.\n"
          ]
        }
      ]
    },
    {
      "cell_type": "code",
      "source": [
        "# prompt: Give me python code to read user input and send the input to google gemini\n",
        "# Read the output and print it in markdown\n",
        "\n",
        "# Import the Python SDK\n",
        "# Used to securely store your API key\n",
        "\n",
        "\n",
        "GOOGLE_API_KEY=userdata.get('GOOGLE_API_KEY')\n",
        "genai.configure(api_key=GOOGLE_API_KEY)\n",
        "\n",
        "model = genai.GenerativeModel('gemini-pro')\n",
        "\n",
        "# Get user input\n",
        "user_input = input(\"Enter a prompt: \")\n",
        "\n",
        "# Send the input to Google Gemini\n",
        "response = model.generate_content(user_input)\n",
        "\n",
        "# Print the output in markdown\n",
        "display(to_markdown(response.text))\n"
      ],
      "metadata": {
        "colab": {
          "base_uri": "https://localhost:8080/",
          "height": 430
        },
        "id": "IWMT2646AlDd",
        "outputId": "eb06a60b-3d91-44c5-c1ed-f8392fe76712"
      },
      "execution_count": 12,
      "outputs": [
        {
          "name": "stdout",
          "output_type": "stream",
          "text": [
            "Enter a prompt: Let's define registration_rate as registered_count/eligible_count Using the table employer_registration_data in sqlite can u give me a SQL query that gives me the following Year on Year Analysis of registration_rate for the years 2021, 2022, 2023 for the months June to October Give ONLY the query without the prepending ```sql and no explanation around the code. This has to be passed to a code interpreter.\n"
          ]
        },
        {
          "output_type": "display_data",
          "data": {
            "text/plain": [
              "<IPython.core.display.Markdown object>"
            ],
            "text/markdown": "> ```\n> WITH YearOnYear AS (\n>   SELECT\n>     school_year,\n>     month,\n>     registration_rate,\n>     LEAD(registration_rate, 12) OVER (PARTITION BY school_year ORDER BY month) AS y1_rate,\n>     LEAD(registration_rate, 24) OVER (PARTITION BY school_year ORDER BY month) AS y2_rate\n>   FROM employer_registration_data\n>   WHERE\n>     school_year IN (2021, 2022, 2023) AND month BETWEEN 6 AND 10\n> )\n> SELECT\n>   school_year,\n>   month,\n>   registration_rate,\n>   y1_rate,\n>   y2_rate,\n>   (registration_rate - y1_rate) / y1_rate AS y1_growth,\n>   (registration_rate - y2_rate) / y2_rate AS y2_growth\n> FROM YearOnYear;\n> ```"
          },
          "metadata": {}
        }
      ]
    },
    {
      "cell_type": "markdown",
      "source": [
        "# **PROMPT FOR GENERATING THE QUERY**\n",
        "\n",
        "Let's define registration_rate as registered_count/eligible_count\n",
        "Using the table employer_registration_data in sqlite can u give me a SQL query that gives me the following\n",
        "Year on Year Analysis of registration_rate for the years 2021, 2022, 2023 for the months June to October\n",
        "Give ONLY the query without the prepending ```sql and no explanation around the code. This has to be passed to a code interpreter."
      ],
      "metadata": {
        "id": "KUt60tzPSIyv"
      }
    },
    {
      "cell_type": "code",
      "source": [
        "from google.auth import credentials\n",
        "from googleapiclient import discovery\n",
        "from google.colab import userdata\n",
        "project_id = \"your_project_id\"\n",
        "dataset_id = \"your_dataset_id\"\n",
        "credentials_path = userdata.get('SERVICE_KEY_PATH')\n",
        "\n",
        "def run_bigquery_query(project_id, dataset_id, credentials_path, query):\n",
        "  # Use application default credentials or service account credentials\n",
        "  credentials = credentials.from_service_account_file(credentials_path)\n",
        "  service = discovery.build(\"bigquery\", \"v2\", credentials=credentials)\n",
        "\n",
        "  # Construct the BigQuery API request\n",
        "  request = service.jobs().query(\n",
        "      projectId=project_id,\n",
        "      body={\"query\": query},\n",
        "  )\n",
        "\n",
        "  # Execute the query and get results\n",
        "  response = request.execute()\n",
        "  return response\n",
        "\n",
        "# Replace with your project ID, dataset ID, credentials path, and query\n",
        "\n",
        "results = run_bigquery_query(project_id, dataset_id, credentials_path, query)\n",
        "\n",
        "# Process or print the results (implementation depends on your needs)\n",
        "# ...\n"
      ],
      "metadata": {
        "id": "4q6d0fkDSSmS"
      },
      "execution_count": null,
      "outputs": []
    },
    {
      "cell_type": "markdown",
      "source": [
        "Now Let's define and build a data source"
      ],
      "metadata": {
        "id": "RCHn7XJaTknu"
      }
    },
    {
      "cell_type": "code",
      "source": [
        "# prompt: Let's build a CSV file with name: employer_registration_data.csv\n",
        "# structure as follows: employer_name, state, age, gender, eligible_count, registration_count, month, year, day\n",
        "# state should be from US\n",
        "# age should be from 19 to 99\n",
        "# year should be from 2015 to 2024\n",
        "# eligible_count and registration_count should be integers\n",
        "\n",
        "import csv\n",
        "import random\n",
        "\n",
        "# Generate random data for the CSV file\n",
        "employer_names = [\"Company A\", \"Company B\", \"Company C\"]\n",
        "states = [\"California\", \"Texas\", \"Florida\"]\n",
        "ages = list(range(19, 100))\n",
        "genders = [\"Male\", \"Female\"]\n",
        "months = list(range(1, 13))\n",
        "years = list(range(2015, 2025))\n",
        "\n",
        "# Create the CSV file\n",
        "with open(\"employer_registration_data.csv\", \"w\", newline=\"\") as csvfile:\n",
        "  writer = csv.writer(csvfile)\n",
        "\n",
        "  # Write the header row\n",
        "  writer.writerow([\"employer_name\", \"state\", \"age\", \"gender\", \"eligible_count\", \"registration_count\", \"month\", \"year\", \"day\"])\n",
        "\n",
        "  # Generate 1000 random rows of data\n",
        "  for i in range(1000):\n",
        "    employer_name = random.choice(employer_names)\n",
        "    state = random.choice(states)\n",
        "    age = random.choice(ages)\n",
        "    gender = random.choice(genders)\n",
        "    eligible_count = random.randint(1, 1000)\n",
        "    registration_count = random.randint(0, eligible_count)\n",
        "    month = random.choice(months)\n",
        "    year = random.choice(years)\n",
        "    day = random.randint(1, 28)\n",
        "\n",
        "    # Write the row to the CSV file\n",
        "    writer.writerow([employer_name, state, age, gender, eligible_count, registration_count, month, year, day])\n"
      ],
      "metadata": {
        "id": "L_8_BArZTjYJ"
      },
      "execution_count": 7,
      "outputs": []
    },
    {
      "cell_type": "code",
      "source": [
        "# prompt: Let's read the data from this CSV into a SQLite database\n",
        "\n",
        "import sqlite3\n",
        "\n",
        "# Connect to the database\n",
        "conn = sqlite3.connect(\"employer_registration_data.db\")\n",
        "\n",
        "# Create a cursor object\n",
        "cur = conn.cursor()\n",
        "\n",
        "# Create the table\n",
        "cur.execute(\"\"\"CREATE TABLE IF NOT EXISTS employer_registration (\n",
        "    employer_name TEXT,\n",
        "    state TEXT,\n",
        "    age INTEGER,\n",
        "    gender TEXT,\n",
        "    eligible_count INTEGER,\n",
        "    registration_count INTEGER,\n",
        "    month INTEGER,\n",
        "    year INTEGER,\n",
        "    day INTEGER\n",
        ")\"\"\")\n",
        "\n",
        "# Read the data from the CSV file\n",
        "with open(\"sample_data/employer_registration_data.csv\", \"r\") as csvfile:\n",
        "    reader = csv.reader(csvfile)\n",
        "    next(reader)  # Skip the header row\n",
        "    for row in reader:\n",
        "        cur.execute(\"\"\"INSERT INTO employer_registration (employer_name, state, age, gender, eligible_count, registration_count, month, year, day)\n",
        "                      VALUES (?, ?, ?, ?, ?, ?, ?, ?, ?)\"\"\", row)\n",
        "\n",
        "# Commit the changes to the database\n",
        "conn.commit()\n",
        "\n",
        "# Close the database connection\n",
        "conn.close()\n"
      ],
      "metadata": {
        "id": "WmVHs601rzsH"
      },
      "execution_count": 11,
      "outputs": []
    },
    {
      "cell_type": "code",
      "source": [
        "# prompt: Can u build a Year on Year visualisation for registered_count/eligible_count for the years 2021,2022, 2023 for the months June, July, September using matplotlib\n",
        "\n",
        "import matplotlib.pyplot as plt\n",
        "import pandas as pd\n",
        "\n",
        "# Read the data from the sqlite database\n",
        "conn = sqlite3.connect(\"employer_registration_data.db\")\n",
        "cur = conn.cursor()\n",
        "cur.execute(\"\"\"SELECT year, month, SUM(eligible_count) AS eligible_count, SUM(registration_count) AS registration_count\n",
        "              FROM employer_registration\n",
        "              WHERE year IN (2021, 2022, 2023) AND month IN (6, 7, 9)\n",
        "              GROUP BY year, month\"\"\")\n",
        "\n",
        "data = cur.fetchall()\n",
        "conn.close()\n",
        "\n",
        "# Convert the data to a Pandas DataFrame\n",
        "df = pd.DataFrame(data, columns=[\"year\", \"month\", \"eligible_count\", \"registration_count\"])\n",
        "\n",
        "# Calculate the registration rate\n",
        "df[\"registration_rate\"] = df[\"registration_count\"] / df[\"eligible_count\"]\n",
        "\n",
        "# Group the data by year and month\n",
        "df_grouped = df.groupby([\"year\", \"month\"])[\"registration_rate\"].sum().unstack()\n",
        "\n",
        "# Create the plot\n",
        "fig, ax = plt.subplots()\n",
        "df_grouped.plot(kind=\"bar\", ax=ax)\n",
        "\n",
        "# Add labels and title\n",
        "ax.set_xlabel(\"Year and Month\")\n",
        "ax.set_ylabel(\"Registration Rate\")\n",
        "ax.set_title(\"Year on Year Analysis of Registration Rate for the Months June, July, September\")\n",
        "\n",
        "# Show the plot\n",
        "plt.show()\n"
      ],
      "metadata": {
        "colab": {
          "base_uri": "https://localhost:8080/",
          "height": 493
        },
        "id": "zTtvdn0HsGDD",
        "outputId": "ca42d771-1436-4125-9a08-ae3f0a45ebfc"
      },
      "execution_count": 13,
      "outputs": [
        {
          "output_type": "display_data",
          "data": {
            "text/plain": [
              "<Figure size 640x480 with 1 Axes>"
            ],
            "image/png": "[encoded data removed]"
          },
          "metadata": {}
        }
      ]
    },
    {
      "cell_type": "code",
      "source": [],
      "metadata": {
        "id": "KVozDzvVuyeB"
      },
      "execution_count": null,
      "outputs": []
    },
    {
      "cell_type": "code",
      "source": [
        "# prompt: Can u generate and load 1000 rows of data into employer_registration_data for 20 employers\n",
        "\n",
        "import sqlite3\n",
        "import random\n",
        "\n",
        "# Connect to the database\n",
        "conn = sqlite3.connect(\"employer_registration_data.db\")\n",
        "\n",
        "# Create a cursor object\n",
        "cur = conn.cursor()\n",
        "\n",
        "# Create the table if it doesn't exist\n",
        "cur.execute(\"\"\"CREATE TABLE IF NOT EXISTS employer_registration (\n",
        "    employer_name TEXT,\n",
        "    state TEXT,\n",
        "    age INTEGER,\n",
        "    gender TEXT,\n",
        "    eligible_count INTEGER,\n",
        "    registration_count INTEGER,\n",
        "    month INTEGER,\n",
        "    year INTEGER,\n",
        "    day INTEGER\n",
        ")\"\"\")\n",
        "\n",
        "# Generate 1000 rows of data for 20 employers\n",
        "employer_names = [\"Company A\", \"Company B\", \"Company C\", \"Company D\", \"Company E\", \"Company F\", \"Company G\", \"Company H\", \"Company I\", \"Company J\", \"Company K\", \"Company L\", \"Company M\", \"Company N\", \"Company O\", \"Company P\", \"Company Q\", \"Company R\", \"Company S\", \"Company T\"]\n",
        "states = [\"California\", \"Texas\", \"Florida\"]\n",
        "ages = list(range(19, 100))\n",
        "genders = [\"Male\", \"Female\"]\n",
        "months = list(range(1, 13))\n",
        "years = [2020, 2021, 2022, 2023]\n",
        "days = list(range(1, 28))\n",
        "\n",
        "for i in range(1000):\n",
        "    employer_name = random.choice(employer_names)\n",
        "    state = random.choice(states)\n",
        "    age = random.choice(ages)\n",
        "    gender = random.choice(genders)\n",
        "    eligible_count = random.randint(1, 1000)\n",
        "    registration_count = random.randint(0, eligible_count)\n",
        "    month = random.choice(months)\n",
        "    year = random.choice(years)\n",
        "    day = random.randint(1, 28)\n",
        "\n",
        "    # Insert the data into the table\n",
        "    cur.execute(\"\"\"INSERT INTO employer_registration (employer_name, state, age, gender, eligible_count, registration_count, month, year, day)\n",
        "                  VALUES (?, ?, ?, ?, ?, ?, ?, ?, ?)\"\"\", (employer_name, state, age, gender, eligible_count, registration_count, month, year, day))\n",
        "\n",
        "# Commit the changes to the database\n",
        "conn.commit()\n",
        "\n",
        "# Close the database connection\n",
        "conn.close()\n"
      ],
      "metadata": {
        "id": "4ynFDiR9vK-7"
      },
      "execution_count": 16,
      "outputs": []
    }
  ]
}